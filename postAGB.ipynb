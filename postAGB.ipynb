{
 "cells": [
  {
   "cell_type": "code",
   "execution_count": 1,
   "metadata": {},
   "outputs": [
    {
     "name": "stdout",
     "output_type": "stream",
     "text": [
      "Requirement already satisfied: artpop in c:\\users\\nharr\\anaconda3\\envs\\artpop\\lib\\site-packages (0.1.1)\n",
      "Requirement already satisfied: numpy>=1.17 in c:\\users\\nharr\\anaconda3\\envs\\artpop\\lib\\site-packages (from artpop) (1.25.2)\n",
      "Requirement already satisfied: scipy>=1 in c:\\users\\nharr\\anaconda3\\envs\\artpop\\lib\\site-packages (from artpop) (1.11.4)\n",
      "Requirement already satisfied: astropy>=4 in c:\\users\\nharr\\anaconda3\\envs\\artpop\\lib\\site-packages (from artpop) (6.0.0)\n",
      "Requirement already satisfied: matplotlib>=3 in c:\\users\\nharr\\anaconda3\\envs\\artpop\\lib\\site-packages (from artpop) (3.7.2)\n",
      "Requirement already satisfied: fast-histogram>=0.9 in c:\\users\\nharr\\anaconda3\\envs\\artpop\\lib\\site-packages (from artpop) (0.12)\n",
      "Requirement already satisfied: requests in c:\\users\\nharr\\anaconda3\\envs\\artpop\\lib\\site-packages (from artpop) (2.31.0)\n",
      "Requirement already satisfied: pyerfa>=2.0 in c:\\users\\nharr\\anaconda3\\envs\\artpop\\lib\\site-packages (from astropy>=4->artpop) (2.0.1.1)\n",
      "Requirement already satisfied: astropy-iers-data>=0.2023.10.30.0.29.53 in c:\\users\\nharr\\anaconda3\\envs\\artpop\\lib\\site-packages (from astropy>=4->artpop) (0.2023.12.4.0.30.20)\n",
      "Requirement already satisfied: PyYAML>=3.13 in c:\\users\\nharr\\anaconda3\\envs\\artpop\\lib\\site-packages (from astropy>=4->artpop) (6.0.1)\n",
      "Requirement already satisfied: packaging>=19.0 in c:\\users\\nharr\\anaconda3\\envs\\artpop\\lib\\site-packages (from astropy>=4->artpop) (23.1)\n",
      "Requirement already satisfied: contourpy>=1.0.1 in c:\\users\\nharr\\anaconda3\\envs\\artpop\\lib\\site-packages (from matplotlib>=3->artpop) (1.0.5)\n",
      "Requirement already satisfied: cycler>=0.10 in c:\\users\\nharr\\anaconda3\\envs\\artpop\\lib\\site-packages (from matplotlib>=3->artpop) (0.11.0)\n",
      "Requirement already satisfied: fonttools>=4.22.0 in c:\\users\\nharr\\anaconda3\\envs\\artpop\\lib\\site-packages (from matplotlib>=3->artpop) (4.25.0)\n",
      "Requirement already satisfied: kiwisolver>=1.0.1 in c:\\users\\nharr\\anaconda3\\envs\\artpop\\lib\\site-packages (from matplotlib>=3->artpop) (1.4.4)\n",
      "Requirement already satisfied: pillow>=6.2.0 in c:\\users\\nharr\\anaconda3\\envs\\artpop\\lib\\site-packages (from matplotlib>=3->artpop) (9.4.0)\n",
      "Requirement already satisfied: pyparsing<3.1,>=2.3.1 in c:\\users\\nharr\\anaconda3\\envs\\artpop\\lib\\site-packages (from matplotlib>=3->artpop) (3.0.9)\n",
      "Requirement already satisfied: python-dateutil>=2.7 in c:\\users\\nharr\\anaconda3\\envs\\artpop\\lib\\site-packages (from matplotlib>=3->artpop) (2.8.2)\n",
      "Requirement already satisfied: charset-normalizer<4,>=2 in c:\\users\\nharr\\anaconda3\\envs\\artpop\\lib\\site-packages (from requests->artpop) (3.3.2)\n",
      "Requirement already satisfied: idna<4,>=2.5 in c:\\users\\nharr\\anaconda3\\envs\\artpop\\lib\\site-packages (from requests->artpop) (3.6)\n",
      "Requirement already satisfied: urllib3<3,>=1.21.1 in c:\\users\\nharr\\anaconda3\\envs\\artpop\\lib\\site-packages (from requests->artpop) (2.1.0)\n",
      "Requirement already satisfied: certifi>=2017.4.17 in c:\\users\\nharr\\anaconda3\\envs\\artpop\\lib\\site-packages (from requests->artpop) (2023.11.17)\n",
      "Requirement already satisfied: six>=1.5 in c:\\users\\nharr\\anaconda3\\envs\\artpop\\lib\\site-packages (from python-dateutil>=2.7->matplotlib>=3->artpop) (1.16.0)\n",
      "Note: you may need to restart the kernel to use updated packages.\n"
     ]
    }
   ],
   "source": [
    "pip install artpop"
   ]
  },
  {
   "cell_type": "code",
   "execution_count": 2,
   "metadata": {},
   "outputs": [],
   "source": [
    "import numpy as np\n",
    "import matplotlib.pyplot as plt\n",
    "from astropy import units as u\n",
    "\n",
    "# Project import\n",
    "import artpop"
   ]
  },
  {
   "cell_type": "code",
   "execution_count": 3,
   "metadata": {},
   "outputs": [],
   "source": [
    "# artpop's matplotlib style\n",
    "plt.style.use(artpop.mpl_style)\n",
    "log_ages = artpop.MISTIsochrone._log_age_grid[40:-3]\n",
    "\n",
    "# use this random state for reproducibility\n",
    "rng = np.random.RandomState(112)"
   ]
  },
  {
   "cell_type": "code",
   "execution_count": 4,
   "metadata": {},
   "outputs": [
    {
     "name": "stderr",
     "output_type": "stream",
     "text": [
      "WARNING: No AB / Vega conversion found for Gaia_G_MAW.\n",
      "WARNING: No AB / Vega conversion found for Gaia_BP_MAWb.\n",
      "WARNING: No AB / Vega conversion found for Gaia_BP_MAWf.\n",
      "WARNING: No AB / Vega conversion found for Gaia_RP_MAW.\n"
     ]
    }
   ],
   "source": [
    "ssp_old = artpop.MISTSSP(\n",
    "    log_age = 10.1,          # log of age in years\n",
    "    feh = -1.5,             # metallicity [Fe/H]\n",
    "    phot_system = 'UBVRIplus', # photometric system(s)\n",
    "    num_stars = 5e9,      # number of stars\n",
    "    random_state = rng,   # random state for reproducibility\n",
    "    ab_or_vega='vega',\n",
    "    mag_limit=-2,\n",
    "    mag_limit_band='Bessell_V'\n",
    ")"
   ]
  },
  {
   "cell_type": "code",
   "execution_count": 6,
   "metadata": {},
   "outputs": [
    {
     "name": "stderr",
     "output_type": "stream",
     "text": [
      "WARNING: No AB / Vega conversion found for Gaia_G_MAW.\n",
      "WARNING: No AB / Vega conversion found for Gaia_BP_MAWb.\n",
      "WARNING: No AB / Vega conversion found for Gaia_BP_MAWf.\n",
      "WARNING: No AB / Vega conversion found for Gaia_RP_MAW.\n"
     ]
    }
   ],
   "source": [
    "ssp_old2 = artpop.MISTSSP(\n",
    "    log_age = 10.1,          # log of age in years\n",
    "    feh = -1.5,             # metallicity [Fe/H]\n",
    "    phot_system = 'UBVRIplus', # photometric system(s)\n",
    "    num_stars = 5e6,      # number of stars\n",
    "    random_state = rng,   # random state for reproducibility\n",
    "    ab_or_vega='vega',\n",
    ")"
   ]
  },
  {
   "cell_type": "code",
   "execution_count": 7,
   "metadata": {},
   "outputs": [],
   "source": [
    "pAGB_o = ssp_old.select_phase('postAGB')\n",
    "pAGB_o2 = ssp_old2.select_phase('postAGB')"
   ]
  },
  {
   "cell_type": "code",
   "execution_count": 8,
   "metadata": {},
   "outputs": [],
   "source": [
    "i_o = ssp_old.star_mags('Bessell_B')\n",
    "g_o = ssp_old.star_mags('Bessell_V')\n",
    "i_o2 = ssp_old2.star_mags('Bessell_B')\n",
    "g_o2 = ssp_old2.star_mags('Bessell_V')\n"
   ]
  },
  {
   "cell_type": "code",
   "execution_count": 9,
   "metadata": {},
   "outputs": [
    {
     "data": {
      "text/plain": [
       "Text(0, 0.5, 'M$_i$')"
      ]
     },
     "execution_count": 9,
     "metadata": {},
     "output_type": "execute_result"
    },
    {
     "data": {
      "image/png": "[encoded data removed]",
      "text/plain": [
       "<Figure size 640x480 with 1 Axes>"
      ]
     },
     "metadata": {},
     "output_type": "display_data"
    }
   ],
   "source": [
    "plt.plot(g_o[pAGB_o] - i_o[pAGB_o], i_o[pAGB_o], 'o',\n",
    "c='tab:red', mec='k', label='pAGB')\n",
    "plt.legend(loc='center right')\n",
    "plt.xlim(-0.5,1.5)\n",
    "plt.ylim(-4,0)\n",
    "plt.minorticks_on()\n",
    "plt.gca().invert_yaxis()\n",
    "plt.xlabel(r'$g-i$')\n",
    "plt.ylabel(r'M$_i$')"
   ]
  },
  {
   "cell_type": "code",
   "execution_count": 10,
   "metadata": {},
   "outputs": [],
   "source": [
    "def find_average_of_top_3_lowest(arr):\n",
    "    # Combine the index and values into a 2D array\n",
    "    points = np.column_stack((np.arange(len(arr)), arr))\n",
    "    \n",
    "    # Sort points based on values in ascending order\n",
    "    sorted_points = points[points[:, 1].argsort()]\n",
    "    \n",
    "    # Select the top 5 lowest values\n",
    "    top_10_lowest_points = sorted_points[:5]\n",
    "    \n",
    "    # Calculate and return the average value of the selected points\n",
    "    average_value = np.mean(top_10_lowest_points[:, 1])\n",
    "    \n",
    "    return average_value"
   ]
  },
  {
   "cell_type": "code",
   "execution_count": 11,
   "metadata": {},
   "outputs": [
    {
     "name": "stdout",
     "output_type": "stream",
     "text": [
      "Average of the top 3 lowest values (int): -3.841203920477971\n"
     ]
    }
   ],
   "source": [
    "# Use the function\n",
    "average_of_top_3_lowest = find_average_of_top_3_lowest(i_o[pAGB_o])\n",
    "\n",
    "# Print or use the average_of_top_10_lowest value as needed\n",
    "print(\"Average of the top 3 lowest values (int):\", average_of_top_3_lowest)"
   ]
  }
 ],
 "metadata": {
  "kernelspec": {
   "display_name": "base",
   "language": "python",
   "name": "python3"
  },
  "language_info": {
   "codemirror_mode": {
    "name": "ipython",
    "version": 3
   },
   "file_extension": ".py",
   "mimetype": "text/x-python",
   "name": "python",
   "nbconvert_exporter": "python",
   "pygments_lexer": "ipython3",
   "version": "3.11.4"
  },
  "orig_nbformat": 4
 },
 "nbformat": 4,
 "nbformat_minor": 2
}
